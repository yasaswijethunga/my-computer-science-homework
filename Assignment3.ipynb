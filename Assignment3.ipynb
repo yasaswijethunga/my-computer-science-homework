{
 "cells": [
  {
   "cell_type": "markdown",
   "id": "4680c7e0-b85e-4d55-a8e7-1378177d024a",
   "metadata": {},
   "source": [
    "# Assignment 3\n",
    "## 17-02-2025\n",
    "## **Yasas Thamara Wijethunga**"
   ]
  },
  {
   "cell_type": "markdown",
   "id": "c853a518-8083-4a57-ba08-4f1488715f4f",
   "metadata": {},
   "source": [
    "# Exercise 1"
   ]
  },
  {
   "cell_type": "code",
   "execution_count": 19,
   "id": "7d693796-4be4-4007-902a-a60d1228fe65",
   "metadata": {},
   "outputs": [
    {
     "name": "stdout",
     "output_type": "stream",
     "text": [
      "output : 30\n"
     ]
    }
   ],
   "source": [
    "product = lambda x, y: x * y\n",
    "result = product(5, 6)\n",
    "print(\"output :\",result)"
   ]
  },
  {
   "cell_type": "markdown",
   "id": "60b973b1-22f7-453a-8a81-f1deae97a643",
   "metadata": {},
   "source": [
    "# Exercise 2"
   ]
  },
  {
   "cell_type": "code",
   "execution_count": 21,
   "id": "2fb63fd4-f5c1-4bcb-b628-331fcd56d6ac",
   "metadata": {},
   "outputs": [
    {
     "name": "stdout",
     "output_type": "stream",
     "text": [
      "output : 314.1592653589793\n"
     ]
    }
   ],
   "source": [
    "import math\n",
    "\n",
    "# create the funtion\n",
    "def area_of_circle(radius):\n",
    "    return math.pi * radius**2\n",
    "\n",
    "# Test the function with radius 10\n",
    "area = area_of_circle(10)\n",
    "print(\"output :\",area)"
   ]
  },
  {
   "cell_type": "markdown",
   "id": "3e999837-38ed-4831-95ad-6ba0c370219b",
   "metadata": {},
   "source": [
    "# Exercise 3"
   ]
  },
  {
   "cell_type": "code",
   "execution_count": 23,
   "id": "9ce1bd1e-52a3-48e3-9633-0335aa4c7f96",
   "metadata": {},
   "outputs": [
    {
     "name": "stdout",
     "output_type": "stream",
     "text": [
      "output : 0.4\n"
     ]
    }
   ],
   "source": [
    "def calculator(num1, num2, operation):\n",
    "    # Addition\n",
    "    if operation == 'a':  \n",
    "        return num1 + num2\n",
    "    # Subtraction\n",
    "    elif operation == 's':  \n",
    "        return num1 - num2\n",
    "    # Multiplication\n",
    "    elif operation == 'm':  \n",
    "        return num1 * num2\n",
    "    # Division   \n",
    "    elif operation == 'd':  \n",
    "        if num2 != 0:\n",
    "            return num1 / num2\n",
    "        else:\n",
    "            return \"Error! Division by zero.\"\n",
    "    else:\n",
    "        return \"Invalid operation.\"\n",
    "\n",
    "# Test the function with given input (2, 5, 'd')\n",
    "result = calculator(2, 5, 'd')\n",
    "print(\"output :\",result)\n"
   ]
  },
  {
   "cell_type": "markdown",
   "id": "9df94739-b399-47e6-bae3-d1adba9a9663",
   "metadata": {},
   "source": [
    "# Exercise 4"
   ]
  },
  {
   "cell_type": "code",
   "execution_count": 25,
   "id": "97b94496-6885-4e0d-bef5-9aeb03427c24",
   "metadata": {},
   "outputs": [
    {
     "name": "stdout",
     "output_type": "stream",
     "text": [
      "Output : 50\n"
     ]
    }
   ],
   "source": [
    "class Rectangle:\n",
    "    def __init__(self, length, width):\n",
    "        self.length = length\n",
    "        self.width = width\n",
    "    \n",
    "    def area(self):\n",
    "        return self.length * self.width\n",
    "\n",
    "# Create a Rectangle  with length 5 and width 10\n",
    "r = Rectangle(5, 10)\n",
    "\n",
    "# Calculate and print the area of the rectangle\n",
    "print(\"Output :\",r.area())\n"
   ]
  },
  {
   "cell_type": "markdown",
   "id": "c4872565-b30a-4ca2-ba2f-a72052ad30fe",
   "metadata": {},
   "source": [
    "# Exercise 5"
   ]
  },
  {
   "cell_type": "code",
   "execution_count": 27,
   "id": "89563fe1-0212-4146-968b-9bdd42fd0e40",
   "metadata": {},
   "outputs": [
    {
     "name": "stdout",
     "output_type": "stream",
     "text": [
      "The area is: 25\n",
      "This is a: square\n"
     ]
    }
   ],
   "source": [
    "class Shape:\n",
    "    def __init__(self, name):\n",
    "        self.name = name\n",
    "\n",
    "    def area(self):\n",
    "        return 0\n",
    "\n",
    "class Square(Shape):\n",
    "    def __init__(self, name, length):\n",
    "        super().__init__(name)\n",
    "        self.length = length\n",
    "\n",
    "    def area(self):\n",
    "        return self.length ** 2\n",
    "\n",
    "    def describe(self):\n",
    "        return self.name\n",
    "\n",
    "# Test case\n",
    "s = Square('square', 5)\n",
    "print(\"The area is:\",s.area())      \n",
    "print(\"This is a:\",s.describe()) "
   ]
  },
  {
   "cell_type": "code",
   "execution_count": null,
   "id": "ea5e50bd-981a-42c2-bd1b-140f5f4a593a",
   "metadata": {},
   "outputs": [],
   "source": []
  }
 ],
 "metadata": {
  "kernelspec": {
   "display_name": "Python [conda env:base] *",
   "language": "python",
   "name": "conda-base-py"
  },
  "language_info": {
   "codemirror_mode": {
    "name": "ipython",
    "version": 3
   },
   "file_extension": ".py",
   "mimetype": "text/x-python",
   "name": "python",
   "nbconvert_exporter": "python",
   "pygments_lexer": "ipython3",
   "version": "3.12.7"
  }
 },
 "nbformat": 4,
 "nbformat_minor": 5
}
