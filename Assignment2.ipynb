{
 "cells": [
  {
   "cell_type": "markdown",
   "id": "49e5c6de-6bc3-4b41-a942-afa68b323c6a",
   "metadata": {},
   "source": [
    "# Assignment 2\n",
    "## 10-02-2025\n",
    "## **Yasas Thamara Wijethunga**"
   ]
  },
  {
   "cell_type": "markdown",
   "id": "bd3ad3b1-5f58-4c4e-8876-1c8300d2faee",
   "metadata": {},
   "source": [
    "# Exercise 1"
   ]
  },
  {
   "cell_type": "code",
   "execution_count": 22,
   "id": "ded78d5c-8270-4ba3-a024-e7c59086342f",
   "metadata": {},
   "outputs": [
    {
     "name": "stdout",
     "output_type": "stream",
     "text": [
      "The result of the calculation was: 149769\n"
     ]
    }
   ],
   "source": [
    "# Defining the variables with values of 100 and 29 \n",
    "first_no = 100\n",
    "second_no = 29\n",
    "\n",
    "# Summing the numbers and multiplying the result by 3\n",
    "sum = (first_no + second_no) * 3\n",
    "\n",
    "# Calculating the 2nd exponent of the previous result\n",
    "result = sum ** 2\n",
    "\n",
    "# Printing the result\n",
    "print(\"The result of the calculation was:\" ,result)"
   ]
  },
  {
   "cell_type": "markdown",
   "id": "ce2abc0b-e551-4156-85ea-55ec9ef33358",
   "metadata": {},
   "source": [
    "# Exercise 2"
   ]
  },
  {
   "cell_type": "code",
   "execution_count": 24,
   "id": "8c36bbe2-e21d-4e69-881e-b230b48f3eaa",
   "metadata": {},
   "outputs": [
    {
     "name": "stdin",
     "output_type": "stream",
     "text": [
      "Enter your name:  Jhon\n",
      "Enter your year of birth:  1995\n",
      "Enter your age:  26\n"
     ]
    },
    {
     "name": "stdout",
     "output_type": "stream",
     "text": [
      "Your password is: 95Jho676\n"
     ]
    }
   ],
   "source": [
    "# Get user inputs\n",
    "name = input(\"Enter your name: \")\n",
    "year = input(\"Enter your year of birth: \")\n",
    "age = int(input(\"Enter your age: \"))\n",
    "\n",
    "# calculate pasword\n",
    "\n",
    "password = year[2:]+name[:3]+str(age**2)\n",
    "\n",
    "# Display the password\n",
    "print(\"Your password is:\", password)"
   ]
  },
  {
   "cell_type": "markdown",
   "id": "948c7a32-54e3-4640-ac70-091e031bc4b6",
   "metadata": {},
   "source": [
    "# Exercise 3"
   ]
  },
  {
   "cell_type": "code",
   "execution_count": 26,
   "id": "8fdb28e8-48d9-4872-a480-1d93fb3e5d60",
   "metadata": {},
   "outputs": [
    {
     "name": "stdin",
     "output_type": "stream",
     "text": [
      "Enter the first number:  5\n",
      "Enter the second number:  6\n"
     ]
    },
    {
     "name": "stdout",
     "output_type": "stream",
     "text": [
      "One of the numbers is even.\n"
     ]
    }
   ],
   "source": [
    "# get the  two numbers\n",
    "firstno = int(input(\"Enter the first number: \"))\n",
    "secondno = int(input(\"Enter the second number: \"))\n",
    "\n",
    "# Check if both, one, or neither number is even\n",
    "if firstno % 2 == 0 and secondno % 2 == 0:\n",
    "    print(\"Both numbers are even.\")\n",
    "elif firstno % 2 == 0 or secondno % 2 == 0:\n",
    "    print(\"One of the numbers is even.\")\n",
    "else:\n",
    "    print(\"Both numbers are odd.\")"
   ]
  },
  {
   "cell_type": "markdown",
   "id": "30d7678a-450d-4b11-b24b-cc8c1d6bb067",
   "metadata": {},
   "source": [
    "# Exercise 4"
   ]
  },
  {
   "cell_type": "code",
   "execution_count": 28,
   "id": "39aa34b8-0399-437f-83e7-ec09112f0f07",
   "metadata": {},
   "outputs": [
    {
     "name": "stdin",
     "output_type": "stream",
     "text": [
      "Give an integer:  5\n"
     ]
    },
    {
     "name": "stdout",
     "output_type": "stream",
     "text": [
      "The sum was: 10\n"
     ]
    }
   ],
   "source": [
    "# get a number\n",
    "num = int(input(\"Give an integer: \"))\n",
    "\n",
    "total_sum = 0\n",
    "for i in range(0,num):\n",
    "    total_sum += i\n",
    "\n",
    "# Output the result\n",
    "print(\"The sum was:\",total_sum)"
   ]
  },
  {
   "cell_type": "markdown",
   "id": "b9992ebd-fbe8-4be9-9b9d-87d1a164d9a2",
   "metadata": {},
   "source": [
    "# Exercise 5"
   ]
  },
  {
   "cell_type": "code",
   "execution_count": 30,
   "id": "f4ea3578-952f-42ac-ac90-7a22084cb4ba",
   "metadata": {},
   "outputs": [
    {
     "name": "stdout",
     "output_type": "stream",
     "text": [
      "Welcome to the guessing game!\n",
      "I have chosen a number between 0 and 10. Try to guess it.\n"
     ]
    },
    {
     "name": "stdin",
     "output_type": "stream",
     "text": [
      "Player : 2\n"
     ]
    },
    {
     "name": "stdout",
     "output_type": "stream",
     "text": [
      "Try a greater number.\n"
     ]
    },
    {
     "name": "stdin",
     "output_type": "stream",
     "text": [
      "Player : 7\n"
     ]
    },
    {
     "name": "stdout",
     "output_type": "stream",
     "text": [
      "Try a greater number.\n"
     ]
    },
    {
     "name": "stdin",
     "output_type": "stream",
     "text": [
      "Player : 9\n"
     ]
    },
    {
     "name": "stdout",
     "output_type": "stream",
     "text": [
      "That's right! number of tries :  3\n"
     ]
    }
   ],
   "source": [
    "import random\n",
    "def guessing_game():\n",
    "    # Dealer generates a random number between 0 and 10\n",
    "    dealer = random.randint(0, 10)  \n",
    "\n",
    "    print(\"Welcome to the guessing game!\")\n",
    "    print(\"I have chosen a number between 0 and 10. Try to guess it.\")\n",
    "\n",
    "# Player makes a guess  \n",
    "    player = int(input(\"Player :\"))\n",
    "    count = 1\n",
    "    while dealer != player:\n",
    "        count += 1\n",
    "        if dealer < player:\n",
    "            print(\"Try a Smaller number.\")\n",
    "            player = int(input(\"Player :\"))\n",
    "        elif dealer > player:   \n",
    "            print(\"Try a greater number.\")\n",
    "            player = int(input(\"Player :\"))\n",
    "\n",
    "    print(\"That's right! number of tries : \", count)\n",
    "# Call the function to start the game\n",
    "guessing_game()"
   ]
  },
  {
   "cell_type": "markdown",
   "id": "bcd75345-7df6-4527-a45f-255138066910",
   "metadata": {},
   "source": [
    "# Bonus"
   ]
  },
  {
   "cell_type": "code",
   "execution_count": 32,
   "id": "a1739a22-0bd9-4ced-aa77-7fbdefa8b99e",
   "metadata": {},
   "outputs": [
    {
     "name": "stdout",
     "output_type": "stream",
     "text": [
      "Welcome to the guessing game!\n",
      "I have chosen a number between 0 and 10. Try to guess it.\n"
     ]
    },
    {
     "name": "stdin",
     "output_type": "stream",
     "text": [
      "Player1 : 2\n"
     ]
    },
    {
     "name": "stdout",
     "output_type": "stream",
     "text": [
      "Try a Smaller number.\n"
     ]
    },
    {
     "name": "stdin",
     "output_type": "stream",
     "text": [
      "Player1 : 1\n"
     ]
    },
    {
     "name": "stdout",
     "output_type": "stream",
     "text": [
      "That's right! number of tries :  2\n",
      "Welcome to the guessing game!\n",
      "I have chosen a number between 0 and 10. Try to guess it.\n"
     ]
    },
    {
     "name": "stdin",
     "output_type": "stream",
     "text": [
      "Player2 : 5\n"
     ]
    },
    {
     "name": "stdout",
     "output_type": "stream",
     "text": [
      "Try a Smaller number.\n"
     ]
    },
    {
     "name": "stdin",
     "output_type": "stream",
     "text": [
      "Player2 : 4\n"
     ]
    },
    {
     "name": "stdout",
     "output_type": "stream",
     "text": [
      "Try a Smaller number.\n"
     ]
    },
    {
     "name": "stdin",
     "output_type": "stream",
     "text": [
      "Player2 : 2\n"
     ]
    },
    {
     "name": "stdout",
     "output_type": "stream",
     "text": [
      "Try a greater number.\n"
     ]
    },
    {
     "name": "stdin",
     "output_type": "stream",
     "text": [
      "Player2 : 3\n"
     ]
    },
    {
     "name": "stdout",
     "output_type": "stream",
     "text": [
      "That's right! number of tries :  4\n",
      "winner is player 1!\n"
     ]
    }
   ],
   "source": [
    "import random\n",
    "def guessing_game():\n",
    "    # Dealer generates a random number between 0 and 10 for player 1\n",
    "    dealer1 = random.randint(0, 10)  \n",
    "    print(\"Welcome to the guessing game!\")\n",
    "    print(\"I have chosen a number between 0 and 10. Try to guess it.\")\n",
    "# Player 1 makes a guess  \n",
    "    player1 = int(input(\"Player1 :\"))\n",
    "    count1 = 1\n",
    "    while dealer1 != player1:\n",
    "        count1 += 1\n",
    "        if dealer1 < player1:\n",
    "            print(\"Try a Smaller number.\")\n",
    "            player1 = int(input(\"Player1 :\"))\n",
    "        elif dealer1 > player1:   \n",
    "            print(\"Try a greater number.\")\n",
    "            player1 = int(input(\"Player1 :\"))\n",
    "\n",
    "    print(\"That's right! number of tries : \", count1)\n",
    "\n",
    "    # Dealer generates a random number between 0 and 10 for player 2\n",
    "    dealer2 = random.randint(0, 10)\n",
    "    print(\"Welcome to the guessing game!\")\n",
    "    print(\"I have chosen a number between 0 and 10. Try to guess it.\")\n",
    "# Player 2 makes a guess  \n",
    "    player2 = int(input(\"Player2 :\"))\n",
    "    count2 = 1\n",
    "    while dealer2 != player2:\n",
    "        count2 += 1\n",
    "        if dealer2 < player2:\n",
    "            print(\"Try a Smaller number.\")\n",
    "            player2 = int(input(\"Player2 :\"))\n",
    "        elif dealer2 > player2:   \n",
    "            print(\"Try a greater number.\")\n",
    "            player2 = int(input(\"Player2 :\"))\n",
    "\n",
    "    print(\"That's right! number of tries : \", count2)\n",
    "\n",
    "    if count1 < count2:\n",
    "        print(\"winner is player 1!\")\n",
    "    elif count1 > count2:\n",
    "        print(\"winner is player 2!\")\n",
    "    else:\n",
    "        print(\"It's a tie! Both players wins\")\n",
    "    \n",
    "# Call the function to start the game\n",
    "guessing_game()"
   ]
  },
  {
   "cell_type": "code",
   "execution_count": null,
   "id": "746da36e-3fe5-4a8e-b393-279aec0938b3",
   "metadata": {},
   "outputs": [],
   "source": []
  }
 ],
 "metadata": {
  "kernelspec": {
   "display_name": "Python [conda env:base] *",
   "language": "python",
   "name": "conda-base-py"
  },
  "language_info": {
   "codemirror_mode": {
    "name": "ipython",
    "version": 3
   },
   "file_extension": ".py",
   "mimetype": "text/x-python",
   "name": "python",
   "nbconvert_exporter": "python",
   "pygments_lexer": "ipython3",
   "version": "3.12.7"
  }
 },
 "nbformat": 4,
 "nbformat_minor": 5
}
