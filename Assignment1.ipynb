{
 "cells": [
  {
   "cell_type": "markdown",
   "id": "d5f28767-69dd-4bac-a9cc-ad1a0d1e536a",
   "metadata": {},
   "source": [
    "# Assignment 1\n",
    "## 01-02-2025\n",
    "## **Yasas Thamara Wijethunga**"
   ]
  },
  {
   "cell_type": "markdown",
   "id": "e20ef536-b195-41ca-9c40-b2897982dedd",
   "metadata": {},
   "source": [
    "## Most Commonly Used Programming Languages:"
   ]
  },
  {
   "cell_type": "markdown",
   "id": "fef45e37-58c5-48c0-9f26-a23a8358857b",
   "metadata": {},
   "source": [
    "* Python\n",
    "* java\n",
    "* Java Script\n",
    "* PHP\n",
    "* C++"
   ]
  },
  {
   "cell_type": "markdown",
   "id": "4febd958-aa21-4887-a197-3c85b6d0844c",
   "metadata": {},
   "source": [
    "| Intermediate Devices | End Devices | Media |\n",
    "| :-: | :-: | :-: |\n",
    "| Router | Laptops | Cable |\n",
    "| Switch | Phone | Wireless Connection |"
   ]
  },
  {
   "cell_type": "code",
   "execution_count": 15,
   "id": "6879b8ac-c307-4d74-9cbf-7a7acbf8fae2",
   "metadata": {},
   "outputs": [
    {
     "name": "stdout",
     "output_type": "stream",
     "text": [
      "Yasas Thamara Wijethunga\n"
     ]
    }
   ],
   "source": [
    "print (\"Yasas Thamara Wijethunga\")"
   ]
  },
  {
   "cell_type": "code",
   "execution_count": 16,
   "id": "d94d69ce-1516-49d6-a133-6967d61863c4",
   "metadata": {},
   "outputs": [
    {
     "name": "stdin",
     "output_type": "stream",
     "text": [
      "What is your name ? Yasas Thamara Wijethunga\n"
     ]
    },
    {
     "name": "stdout",
     "output_type": "stream",
     "text": [
      "Hello Yasas Thamara Wijethunga\n"
     ]
    }
   ],
   "source": [
    "name = input(\"What is your name ?\")\n",
    "print(\"Hello \" + name)"
   ]
  },
  {
   "cell_type": "code",
   "execution_count": 17,
   "id": "9d2bf55d-a1c2-4d6c-b644-b51e4a0c28ed",
   "metadata": {},
   "outputs": [
    {
     "name": "stdin",
     "output_type": "stream",
     "text": [
      "Enter The First Number 20\n",
      "Enter The Second Number 30\n"
     ]
    },
    {
     "name": "stdout",
     "output_type": "stream",
     "text": [
      "sum = 50\n"
     ]
    }
   ],
   "source": [
    "num1 = input(\"Enter The First Number\")\n",
    "num2 = input(\"Enter The Second Number\") \n",
    "sum = int(num1)+ int(num2)\n",
    "print(\"sum = \"+str(sum))"
   ]
  },
  {
   "cell_type": "code",
   "execution_count": null,
   "id": "c491f496-9f25-41e8-8dea-ca5a5c4dbd57",
   "metadata": {},
   "outputs": [],
   "source": []
  }
 ],
 "metadata": {
  "kernelspec": {
   "display_name": "Python [conda env:base] *",
   "language": "python",
   "name": "conda-base-py"
  },
  "language_info": {
   "codemirror_mode": {
    "name": "ipython",
    "version": 3
   },
   "file_extension": ".py",
   "mimetype": "text/x-python",
   "name": "python",
   "nbconvert_exporter": "python",
   "pygments_lexer": "ipython3",
   "version": "3.12.7"
  }
 },
 "nbformat": 4,
 "nbformat_minor": 5
}
